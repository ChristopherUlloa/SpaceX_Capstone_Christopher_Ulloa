{
  "cells": [
    {
      "cell_type": "markdown",
      "metadata": {},
      "source": [
        "# 01 — Data Collection\n",
        "información obtenida a través de csv en modo offline `data/sample_launches.csv`. La información fue obtenida de wikipedi - google."
      ]
    },
    {
      "cell_type": "code",
      "execution_count": null,
      "metadata": {},
      "outputs": [],
      "source": [
        "import pandas as pd, json, requests, os\n",
        "\n",
        "SAMPLE = 'data/sample_launches.csv'\n",
        "\n",
        "def load_sample():\n",
        "    df = pd.read_csv(SAMPLE)\n",
        "    df.head()\n",
        "    return df\n",
        "\n",
        "def fetch_spacex_api():\n",
        "    url = \"https://api.spacexdata.com/v4/launches\"\n",
        "    try:\n",
        "        r = requests.get(url, timeout=10)\n",
        "        r.raise_for_status()\n",
        "        data = r.json()\n",
        "        df = pd.json_normalize(data)\n",
        "        print(\"Fetched\", len(df), \"records from SpaceX API\")\n",
        "        return df\n",
        "    except Exception as e:\n",
        "        print(\"API not reachable, using sample CSV.\", e)\n",
        "        return load_sample()\n",
        "\n",
        "df = load_sample()\n",
        "df.head()\n"
      ]
    },
    {
      "cell_type": "code",
      "execution_count": null,
      "metadata": {},
      "outputs": [],
      "source": [
        "os.makedirs('data', exist_ok=True)\n",
        "df.to_csv('data/launches.csv', index=False)\n",
        "df.shape\n"
      ]
    }
  ],
  "metadata": {
    "kernelspec": {
      "display_name": "Python 3",
      "name": "python3"
    },
    "language_info": {
      "name": "python"
    }
  },
  "nbformat": 4,
  "nbformat_minor": 5
}
