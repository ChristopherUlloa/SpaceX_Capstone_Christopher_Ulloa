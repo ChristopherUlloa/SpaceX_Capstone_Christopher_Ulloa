{
  "cells": [
    {
      "cell_type": "markdown",
      "metadata": {},
      "source": [
        "# 03 — SQL Queries on Launches (SQLite in-memory)"
      ]
    },
    {
      "cell_type": "code",
      "execution_count": null,
      "metadata": {},
      "outputs": [],
      "source": [
        "import pandas as pd, sqlite3\n",
        "\n",
        "df = pd.read_csv('data/launches.csv') if os.path.exists('data/launches.csv') else pd.read_csv('data/sample_launches.csv')\n",
        "\n",
        "con = sqlite3.connect(':memory:')\n",
        "df.to_sql('SPACEXTBL', con, index=False, if_exists='replace')\n",
        "\n",
        "def q(sql):\n",
        "    return pd.read_sql_query(sql, con)\n",
        "\n",
        "q(\"SELECT * FROM SPACEXTBL LIMIT 20\")\n"
      ]
    },
    {
      "cell_type": "code",
      "execution_count": null,
      "metadata": {},
      "outputs": [],
      "source": [
        "q(\"SELECT MIN(PayloadMass) AS min_payload_mass FROM SPACEXTBL\")\n"
      ]
    },
    {
      "cell_type": "code",
      "execution_count": null,
      "metadata": {},
      "outputs": [],
      "source": [
        "q(\"SELECT SUM(PayloadMass) AS Total_Payload_Mass FROM SPACEXTBL\")\n"
      ]
    },
    {
      "cell_type": "code",
      "execution_count": null,
      "metadata": {},
      "outputs": [],
      "source": [
        "q(\"SELECT LaunchSite, SUM(Class) AS success_count, COUNT(*) AS launches FROM SPACEXTBL GROUP BY LaunchSite\")\n"
      ]
    }
  ],
  "metadata": {
    "kernelspec": {
      "display_name": "Python 3",
      "name": "python3"
    },
    "language_info": {
      "name": "python"
    }
  },
  "nbformat": 4,
  "nbformat_minor": 5
}
