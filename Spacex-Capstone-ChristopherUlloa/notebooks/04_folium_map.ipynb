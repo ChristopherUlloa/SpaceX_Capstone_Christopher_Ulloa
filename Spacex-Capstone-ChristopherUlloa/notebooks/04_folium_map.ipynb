{
  "cells": [
    {
      "cell_type": "markdown",
      "metadata": {},
      "source": [
        "# 04 — Folium Map (MarkerCluster)"
      ]
    },
    {
      "cell_type": "code",
      "execution_count": null,
      "metadata": {},
      "outputs": [],
      "source": [
        "import pandas as pd, folium\n",
        "from folium.plugins import MarkerCluster\n",
        "\n",
        "df = pd.read_csv('data/launches.csv') if os.path.exists('data/launches.csv') else pd.read_csv('data/sample_launches.csv')\n",
        "\n",
        "site_coords = {\n",
        "    'CCAFS LC-40': (28.5618571,-80.577366),\n",
        "    'CCAFS SLC-40': (28.5618571,-80.577366),\n",
        "    'KSC LC-39A': (28.608389,-80.604333),\n",
        "    'VAFB SLC-4E': (34.632093,-120.610829)\n",
        "}\n",
        "\n",
        "m = folium.Map(location=[28.56,-80.58], zoom_start=6)\n",
        "cluster = MarkerCluster().add_to(m)\n",
        "\n",
        "for _, r in df.iterrows():\n",
        "    site = r['LaunchSite']\n",
        "    latlon = site_coords.get(site, (28.56,-80.58))\n",
        "    txt = f\"{site} | Orbit: {r['Orbit']} | Payload: {r['PayloadMass']} kg | Class: {r['Class']}\"\n",
        "    folium.Marker(location=latlon, popup=txt).add_to(cluster)\n",
        "\n",
        "m.save('imgs/folium_map.html')\n",
        "print(\"Saved map to imgs/folium_map.html\")\n"
      ]
    }
  ],
  "metadata": {
    "kernelspec": {
      "display_name": "Python 3",
      "name": "python3"
    },
    "language_info": {
      "name": "python"
    }
  },
  "nbformat": 4,
  "nbformat_minor": 5
}
