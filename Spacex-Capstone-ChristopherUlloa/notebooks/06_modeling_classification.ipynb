{
  "cells": [
    {
      "cell_type": "markdown",
      "metadata": {},
      "source": [
        "# 06 — Modeling: Classification (landing success 'Class')"
      ]
    },
    {
      "cell_type": "code",
      "execution_count": null,
      "metadata": {},
      "outputs": [],
      "source": [
        "import pandas as pd, numpy as np\n",
        "from sklearn.model_selection import train_test_split, GridSearchCV\n",
        "from sklearn.preprocessing import OneHotEncoder\n",
        "from sklearn.compose import ColumnTransformer\n",
        "from sklearn.pipeline import Pipeline\n",
        "from sklearn.metrics import accuracy_score, confusion_matrix, classification_report\n",
        "from sklearn.linear_model import LogisticRegression\n",
        "from sklearn.svm import SVC\n",
        "from sklearn.tree import DecisionTreeClassifier\n",
        "\n",
        "df = pd.read_csv('data/launches.csv') if os.path.exists('data/launches.csv') else pd.read_csv('data/sample_launches.csv')\n",
        "\n",
        "y = df['Class'].astype(int)\n",
        "X = df.drop(columns=['Class','Date','Serial'])\n",
        "\n",
        "num = X.select_dtypes(include=['int64','float64']).columns.tolist()\n",
        "cat = X.select_dtypes(include=['object']).columns.tolist()\n",
        "\n",
        "pre = ColumnTransformer([('num','passthrough',num), ('cat', OneHotEncoder(handle_unknown='ignore'), cat)])\n",
        "\n",
        "models = {\n",
        "    'LR': LogisticRegression(max_iter=1000),\n",
        "    'SVM_rbf': SVC(kernel='rbf'),\n",
        "    'DT': DecisionTreeClassifier(random_state=42)\n",
        "}\n",
        "\n",
        "X_train, X_test, y_train, y_test = train_test_split(X,y,test_size=0.2,random_state=42,stratify=y)\n",
        "\n",
        "results = {}\n",
        "for name, model in models.items():\n",
        "    pipe = Pipeline([('prep', pre), ('clf', model)])\n",
        "    pipe.fit(X_train, y_train)\n",
        "    acc = accuracy_score(y_test, pipe.predict(X_test))\n",
        "    results[name] = acc\n",
        "\n",
        "results\n"
      ]
    },
    {
      "cell_type": "code",
      "execution_count": null,
      "metadata": {},
      "outputs": [],
      "source": [
        "best = max(results, key=results.get)\n",
        "best, results[best]\n"
      ]
    },
    {
      "cell_type": "code",
      "execution_count": null,
      "metadata": {},
      "outputs": [],
      "source": [
        "pipe = Pipeline([('prep', pre), ('clf', DecisionTreeClassifier(random_state=42))])\n",
        "param_grid = {'clf__max_depth':[2,3,4,5,None], 'clf__min_samples_split':[2,4,8]}\n",
        "grid = GridSearchCV(pipe, param_grid, cv=3)\n",
        "grid.fit(X_train, y_train)\n",
        "test_acc = accuracy_score(y_test, grid.predict(X_test))\n",
        "print(\"Best params:\", grid.best_params_, \" Test accuracy:\", round(test_acc,4))\n",
        "print(confusion_matrix(y_test, grid.predict(X_test)))\n"
      ]
    }
  ],
  "metadata": {
    "kernelspec": {
      "display_name": "Python 3",
      "name": "python3"
    },
    "language_info": {
      "name": "python"
    }
  },
  "nbformat": 4,
  "nbformat_minor": 5
}
