{
  "cells": [
    {
      "cell_type": "markdown",
      "metadata": {},
      "source": [
        "# 02 — Wrangling & EDA"
      ]
    },
    {
      "cell_type": "code",
      "execution_count": null,
      "metadata": {},
      "outputs": [],
      "source": [
        "import pandas as pd, numpy as np\n",
        "import matplotlib.pyplot as plt\n",
        "import seaborn as sns\n",
        "\n",
        "df = pd.read_csv('data/launches.csv') if os.path.exists('data/launches.csv') else pd.read_csv('data/sample_launches.csv')\n",
        "df.info()\n"
      ]
    },
    {
      "cell_type": "code",
      "execution_count": null,
      "metadata": {},
      "outputs": [],
      "source": [
        "df['Orbit'] = df['Orbit'].astype('category')\n",
        "df['LaunchSite'] = df['LaunchSite'].astype('category')\n",
        "df['Class'] = df['Class'].astype(int)\n",
        "df.isna().sum()\n"
      ]
    },
    {
      "cell_type": "code",
      "execution_count": null,
      "metadata": {},
      "outputs": [],
      "source": [
        "plt.figure()\n",
        "sns.countplot(x='LaunchSite', hue='Class', data=df)\n",
        "plt.title('Success by Launch Site')\n",
        "plt.xticks(rotation=30, ha='right')\n",
        "plt.tight_layout()\n",
        "plt.show()\n",
        "\n",
        "plt.figure()\n",
        "sns.scatterplot(x='FlightNumber', y='PayloadMass', hue='Class', data=df)\n",
        "plt.title('Payload vs FlightNumber by Class')\n",
        "plt.tight_layout()\n",
        "plt.show()\n"
      ]
    }
  ],
  "metadata": {
    "kernelspec": {
      "display_name": "Python 3",
      "name": "python3"
    },
    "language_info": {
      "name": "python"
    }
  },
  "nbformat": 4,
  "nbformat_minor": 5
}
